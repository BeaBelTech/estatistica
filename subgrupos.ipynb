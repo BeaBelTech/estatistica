{
 "cells": [
  {
   "cell_type": "code",
   "execution_count": 1,
   "metadata": {},
   "outputs": [
    {
     "name": "stderr",
     "output_type": "stream",
     "text": [
      "C:\\Users\\willamyandreotti-ieg\\AppData\\Local\\Temp\\ipykernel_18828\\3632437423.py:1: DeprecationWarning: \n",
      "Pyarrow will become a required dependency of pandas in the next major release of pandas (pandas 3.0),\n",
      "(to allow more performant data types, such as the Arrow string type, and better interoperability with other libraries)\n",
      "but was not found to be installed on your system.\n",
      "If this would cause problems for you,\n",
      "please provide us feedback at https://github.com/pandas-dev/pandas/issues/54466\n",
      "        \n",
      "  import pandas as pd\n"
     ]
    }
   ],
   "source": [
    "import pandas as pd\n",
    "import seaborn as sns\n",
    "import matplotlib.pyplot as plt"
   ]
  },
  {
   "cell_type": "code",
   "execution_count": null,
   "metadata": {},
   "outputs": [],
   "source": [
    "df = pd.read_csv('./CarsData.csv')\n",
    "display(df)"
   ]
  },
  {
   "cell_type": "markdown",
   "metadata": {},
   "source": [
    "## Média de preço por fabricante"
   ]
  },
  {
   "cell_type": "code",
   "execution_count": null,
   "metadata": {},
   "outputs": [],
   "source": [
    "# mediaPrecoFabricante = round(df.groupby('Manufacturer')['price'].mean(), 2)\n",
    "# print(mediaPrecoFabricante)\n",
    "sns.boxplot(df, x = \"Manufacturer\", y = \"price\" ,showmeans = True, fliersize=True)\n",
    "plt.ylabel('Preço')\n",
    "plt.xlabel('Fabricante')\n",
    "plt.xticks(rotation=45)\n",
    "plt.show()"
   ]
  },
  {
   "cell_type": "markdown",
   "metadata": {},
   "source": [
    "## Média de preço por fabricante"
   ]
  },
  {
   "cell_type": "code",
   "execution_count": null,
   "metadata": {},
   "outputs": [],
   "source": [
    "# mediaPrecoFabricante = round(df.groupby('Manufacturer')['price'].mean(), 2)\n",
    "# print(mediaPrecoFabricante)\n",
    "sns.boxplot(df, x = \"Manufacturer\", y = \"price\" ,showmeans = True, fliersize=True)\n",
    "plt.ylabel('Preço')\n",
    "plt.xlabel('Fabricante')\n",
    "plt.xticks(rotation=45)\n",
    "plt.show()"
   ]
  },
  {
   "cell_type": "markdown",
   "metadata": {},
   "source": [
    "## Tipo de combustível por fabricante\n"
   ]
  },
  {
   "cell_type": "code",
   "execution_count": null,
   "metadata": {},
   "outputs": [],
   "source": [
    "sns.boxplot(df, x = \"Manufacturer\", y = \"fuelType\", width=0.5)\n",
    "plt.ylabel('Tipo de Combustível')\n",
    "plt.xticks(rotation=45)\n",
    "plt.show()"
   ]
  },
  {
   "cell_type": "markdown",
   "metadata": {},
   "source": [
    "## Tamanho do motor por fabricante"
   ]
  },
  {
   "cell_type": "code",
   "execution_count": null,
   "metadata": {},
   "outputs": [],
   "source": [
    "sns.boxplot(df, x = \"Manufacturer\", y = \"engineSize\", width=0.5, fill=False, whis=1, fliersize=5,showfliers = False)\n",
    "sns.stripplot(df, x = \"Manufacturer\", y = \"engineSize\", color=\"red\", alpha=0.25, marker=10)\n",
    "plt.ylabel(\"Tamanho do Motor\")\n",
    "plt.xlabel(\"Fabricante\")\n",
    "plt.show()\n"
   ]
  },
  {
   "cell_type": "markdown",
   "metadata": {},
   "source": [
    "## Transmissão por fabricante"
   ]
  },
  {
   "cell_type": "code",
   "execution_count": null,
   "metadata": {},
   "outputs": [],
   "source": [
    "sns.boxplot(df, x = \"Manufacturer\", y = \"transmission\", width=0.5)\n",
    "sns.stripplot(df, x = \"Manufacturer\", y = \"transmission\", color=\"red\", alpha=0.25)\n",
    "plt.ylabel(\"Transmissão\")\n",
    "plt.xlabel(\"Fabricante\")\n",
    "plt.show()\n"
   ]
  },
  {
   "cell_type": "markdown",
   "metadata": {},
   "source": [
    "## Galão por Milha"
   ]
  },
  {
   "cell_type": "code",
   "execution_count": null,
   "metadata": {},
   "outputs": [],
   "source": [
    "sns.boxplot(df, x = 'Manufacturer', y = 'mpg', width=0.5, fill=False, whis=3, fliersize=5)\n",
    "plt.ylabel('Galão por milha')\n",
    "plt.xticks(rotation=45)\n",
    "plt.show()"
   ]
  },
  {
   "cell_type": "markdown",
   "metadata": {},
   "source": [
    "## Galão por Milha"
   ]
  },
  {
   "cell_type": "code",
   "execution_count": null,
   "metadata": {},
   "outputs": [],
   "source": [
    "sns.boxplot(df, x = 'Manufacturer', y = 'mpg', width=0.5, fill=False, whis=3, fliersize=5)\n",
    "plt.ylabel('Galão por milha')\n",
    "plt.xticks(rotation=45)\n",
    "plt.show()"
   ]
  }
 ],
 "metadata": {
  "kernelspec": {
   "display_name": "Python 3",
   "language": "python",
   "name": "python3"
  },
  "language_info": {
   "codemirror_mode": {
    "name": "ipython",
    "version": 3
   },
   "file_extension": ".py",
   "mimetype": "text/x-python",
   "name": "python",
   "nbconvert_exporter": "python",
   "pygments_lexer": "ipython3",
   "version": "3.12.1"
  }
 },
 "nbformat": 4,
 "nbformat_minor": 2
}
